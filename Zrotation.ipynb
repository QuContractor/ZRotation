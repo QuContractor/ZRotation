{
 "cells": [
  {
   "cell_type": "code",
   "execution_count": 1,
   "metadata": {},
   "outputs": [],
   "source": [
    "from zrot import * "
   ]
  },
  {
   "cell_type": "code",
   "execution_count": 2,
   "metadata": {},
   "outputs": [],
   "source": [
    "ccc = ['Rz(0.383185307179586) | Qureg[3]']"
   ]
  },
  {
   "cell_type": "code",
   "execution_count": 3,
   "metadata": {},
   "outputs": [
    {
     "data": {
      "text/plain": [
       "[['Rz', [3], 0.383185307179586]]"
      ]
     },
     "execution_count": 3,
     "metadata": {},
     "output_type": "execute_result"
    }
   ],
   "source": [
    "pjq2cmd(ccc)"
   ]
  },
  {
   "cell_type": "code",
   "execution_count": 4,
   "metadata": {},
   "outputs": [
    {
     "data": {
      "text/plain": [
       "280"
      ]
     },
     "execution_count": 4,
     "metadata": {},
     "output_type": "execute_result"
    }
   ],
   "source": [
    "len(zrot(ccc, T_cutoff = 9))"
   ]
  },
  {
   "cell_type": "code",
   "execution_count": 5,
   "metadata": {},
   "outputs": [
    {
     "data": {
      "text/plain": [
       "27"
      ]
     },
     "execution_count": 5,
     "metadata": {},
     "output_type": "execute_result"
    }
   ],
   "source": [
    "len(zrot(ccc, T_cutoff = 3))"
   ]
  },
  {
   "cell_type": "code",
   "execution_count": 6,
   "metadata": {},
   "outputs": [
    {
     "data": {
      "text/plain": [
       "['Sdag | Qureg[3]\\n',\n",
       " 'T | Qureg[3]\\n',\n",
       " 'H | Qureg[3]\\n',\n",
       " 'Sdag | Qureg[3]\\n',\n",
       " 'T | Qureg[3]\\n',\n",
       " 'H | Qureg[3]\\n',\n",
       " 'T | Qureg[3]\\n',\n",
       " 'H | Qureg[3]\\n',\n",
       " 'T | Qureg[3]\\n',\n",
       " 'H | Qureg[3]\\n',\n",
       " 'T | Qureg[3]\\n',\n",
       " 'Sdag | Qureg[3]\\n',\n",
       " 'Z | Qureg[3]\\n',\n",
       " 'H | Qureg[3]\\n',\n",
       " 'T | Qureg[3]\\n',\n",
       " 'Sdag | Qureg[3]\\n',\n",
       " 'Z | Qureg[3]\\n',\n",
       " 'H | Qureg[3]\\n',\n",
       " 'T | Qureg[3]\\n',\n",
       " 'Sdag | Qureg[3]\\n',\n",
       " 'Z | Qureg[3]\\n',\n",
       " 'H | Qureg[3]\\n',\n",
       " 'T | Qureg[3]\\n',\n",
       " 'Sdag | Qureg[3]\\n',\n",
       " 'Z | Qureg[3]\\n',\n",
       " 'H | Qureg[3]\\n',\n",
       " 'T | Qureg[3]\\n']"
      ]
     },
     "execution_count": 6,
     "metadata": {},
     "output_type": "execute_result"
    }
   ],
   "source": [
    "zrot(ccc, T_cutoff = 3)"
   ]
  }
 ],
 "metadata": {
  "kernelspec": {
   "display_name": "Python 3",
   "language": "python",
   "name": "python3"
  },
  "language_info": {
   "codemirror_mode": {
    "name": "ipython",
    "version": 3
   },
   "file_extension": ".py",
   "mimetype": "text/x-python",
   "name": "python",
   "nbconvert_exporter": "python",
   "pygments_lexer": "ipython3",
   "version": "3.7.3"
  }
 },
 "nbformat": 4,
 "nbformat_minor": 4
}
